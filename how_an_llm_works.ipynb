{
  "nbformat": 4,
  "nbformat_minor": 0,
  "metadata": {
    "colab": {
      "provenance": [],
      "toc_visible": true,
      "mount_file_id": "1MvAW60wtN1R7G2GOOJFPs8KCvlX3ILhy",
      "authorship_tag": "ABX9TyN9Ho2aOIpCYf6Aaw0aowtW",
      "include_colab_link": true
    },
    "kernelspec": {
      "name": "python3",
      "display_name": "Python 3"
    },
    "language_info": {
      "name": "python"
    }
  },
  "cells": [
    {
      "cell_type": "markdown",
      "metadata": {
        "id": "view-in-github",
        "colab_type": "text"
      },
      "source": [
        "<a href=\"https://colab.research.google.com/github/TimB0/how-an-llm-works/blob/main/how_an_llm_works.ipynb\" target=\"_parent\"><img src=\"https://colab.research.google.com/assets/colab-badge.svg\" alt=\"Open In Colab\"/></a>"
      ]
    },
    {
      "cell_type": "code",
      "source": [
        "import torch"
      ],
      "metadata": {
        "id": "Cis_D2iMSqIw"
      },
      "execution_count": 4,
      "outputs": []
    },
    {
      "source": [
        "# Define the path to the wizard_of_oz.txt file\n",
        "file_path = 'drive/MyDrive/wizard_of_oz.txt'\n",
        "\n",
        "# Open the file in read mode\n",
        "with open(file_path, 'r', encoding = 'utf-8') as f:\n",
        "    text = f.read()\n",
        "chars = sorted(set(text))\n",
        "print(chars)\n",
        "vocabulary_size = len(chars)\n",
        "print(vocabulary_size)\n"
      ],
      "cell_type": "code",
      "metadata": {
        "colab": {
          "base_uri": "https://localhost:8080/"
        },
        "id": "nFbggUMdVbDW",
        "outputId": "3abfe9e3-a005-40a1-baa4-346ad6c32cec"
      },
      "execution_count": 6,
      "outputs": [
        {
          "output_type": "stream",
          "name": "stdout",
          "text": [
            "['\\n', ' ', '!', '\"', '&', \"'\", '(', ')', '*', ',', '-', '.', '0', '1', '2', '3', '4', '5', '6', '7', '8', '9', ':', ';', '?', 'A', 'B', 'C', 'D', 'E', 'F', 'G', 'H', 'I', 'J', 'K', 'L', 'M', 'N', 'O', 'P', 'Q', 'R', 'S', 'T', 'U', 'V', 'W', 'X', 'Y', 'Z', '[', ']', '_', 'a', 'b', 'c', 'd', 'e', 'f', 'g', 'h', 'i', 'j', 'k', 'l', 'm', 'n', 'o', 'p', 'q', 'r', 's', 't', 'u', 'v', 'w', 'x', 'y', 'z']\n",
            "80\n"
          ]
        }
      ]
    },
    {
      "cell_type": "code",
      "source": [
        "# Create an empty dictionary to store the mapping\n",
        "string_to_int = { ch:i for i,ch in enumerate(chars) }\n",
        "int_to_string = { i:ch for i,ch in enumerate(chars) }\n",
        "\n",
        "# Enumerate the string using enumerate()\n",
        "for index, char in enumerate(chars):\n",
        "  # Map the character to its index\n",
        "  string_to_int[char] = index\n",
        "\n",
        "# Print the resulting dictionary\n",
        "print(string_to_int)"
      ],
      "metadata": {
        "id": "954ssjdjSoiv"
      },
      "execution_count": null,
      "outputs": []
    }
  ]
}